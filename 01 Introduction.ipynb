{
 "cells": [
  {
   "cell_type": "code",
   "execution_count": 1,
   "metadata": {},
   "outputs": [],
   "source": [
    "# print = 20 # do not use keyword names as variable names\n",
    "# print(print) # because if used, then its functionality changes and on using that function it gives error"
   ]
  },
  {
   "cell_type": "code",
   "execution_count": 2,
   "metadata": {},
   "outputs": [
    {
     "name": "stdout",
     "output_type": "stream",
     "text": [
      "manipal\n",
      "   manipal\n",
      "manipal  \n"
     ]
    }
   ],
   "source": [
    "college = \"   manipal  \"\n",
    "\n",
    "print(college.strip())\n",
    "print(college.rstrip())\n",
    "print(college.lstrip())"
   ]
  },
  {
   "cell_type": "code",
   "execution_count": 3,
   "metadata": {},
   "outputs": [
    {
     "name": "stdout",
     "output_type": "stream",
     "text": [
      "my name is \"akshay\"\n"
     ]
    }
   ],
   "source": [
    "# escape characters\n",
    "\n",
    "# text = \"my name is \"akshay\"\" --> throws error\n",
    "text = \"my name is \\\"akshay\\\"\"\n",
    "print(text)"
   ]
  },
  {
   "cell_type": "code",
   "execution_count": 4,
   "metadata": {},
   "outputs": [
    {
     "name": "stdout",
     "output_type": "stream",
     "text": [
      "['apple', 'watermelon', 'orange', 'mango']\n",
      "['mango', 'orange', 'watermelon', 'apple']\n"
     ]
    }
   ],
   "source": [
    "fruits = [\"apple\", \"papaya\", \"orange\", \"mango\"]\n",
    "fruits[1:2] = [\"blackcurrent\", \"cherry\"]\n",
    "fruits[1:3] = [\"watermelon\"]\n",
    "print(fruits)\n",
    "print(fruits[::-1]) # to reverse the list without any loop or function"
   ]
  },
  {
   "cell_type": "code",
   "execution_count": 5,
   "metadata": {},
   "outputs": [
    {
     "name": "stdout",
     "output_type": "stream",
     "text": [
      "[[1, 2, 3], [4, 10], [6, 7]]\n"
     ]
    }
   ],
   "source": [
    "lst = [[1,2,3],[4,5],[6,7]]\n",
    "lst[1][1] = 10 # accessing items in embedded list\n",
    "print(lst)"
   ]
  },
  {
   "cell_type": "code",
   "execution_count": 6,
   "metadata": {},
   "outputs": [
    {
     "name": "stdout",
     "output_type": "stream",
     "text": [
      "('blue',)\n",
      "<class 'tuple'>\n"
     ]
    }
   ],
   "source": [
    "# tuple constructor\n",
    "\n",
    "tpl = tuple((\"q\",\"1\",\"akshay\"))\n",
    "tpl = (\"blue\",)\n",
    "print(tpl)\n",
    "print(type(tpl))"
   ]
  },
  {
   "cell_type": "code",
   "execution_count": 7,
   "metadata": {},
   "outputs": [
    {
     "name": "stdout",
     "output_type": "stream",
     "text": [
      "alfpu\n",
      "<class 'str'>\n"
     ]
    }
   ],
   "source": [
    "company = \"upflairs\"\n",
    "x = company[-7::-1]\n",
    "print(company[4::-1])\n",
    "print(type(x))"
   ]
  },
  {
   "cell_type": "code",
   "execution_count": null,
   "metadata": {},
   "outputs": [],
   "source": []
  },
  {
   "cell_type": "code",
   "execution_count": null,
   "metadata": {},
   "outputs": [],
   "source": []
  }
 ],
 "metadata": {
  "kernelspec": {
   "display_name": "Python 3",
   "language": "python",
   "name": "python3"
  },
  "language_info": {
   "codemirror_mode": {
    "name": "ipython",
    "version": 3
   },
   "file_extension": ".py",
   "mimetype": "text/x-python",
   "name": "python",
   "nbconvert_exporter": "python",
   "pygments_lexer": "ipython3",
   "version": "3.12.4"
  }
 },
 "nbformat": 4,
 "nbformat_minor": 2
}
