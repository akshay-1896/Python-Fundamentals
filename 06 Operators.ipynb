{
 "cells": [
  {
   "cell_type": "markdown",
   "metadata": {},
   "source": [
    "## OPERATORS"
   ]
  },
  {
   "cell_type": "markdown",
   "metadata": {},
   "source": [
    "<h3>Logical operators</h3>"
   ]
  },
  {
   "cell_type": "code",
   "execution_count": 1,
   "metadata": {},
   "outputs": [
    {
     "name": "stdout",
     "output_type": "stream",
     "text": [
      "False\n"
     ]
    }
   ],
   "source": [
    "# AND Operator (both conditions should be true)\n",
    "\n",
    "# A  AND  B    OUTPUT\n",
    "# 0  AND  0      0\n",
    "# 0  AND  1      0\n",
    "# 1  AND  0      0\n",
    "# 1  AND  1      1\n",
    "\n",
    "print(True and False)"
   ]
  },
  {
   "cell_type": "code",
   "execution_count": 2,
   "metadata": {},
   "outputs": [
    {
     "name": "stdout",
     "output_type": "stream",
     "text": [
      "False\n"
     ]
    }
   ],
   "source": [
    "# OR Operator (at least one condition should be true)\n",
    "\n",
    "# A  OR  B    OUTPUT\n",
    "# 0  OR  0      0\n",
    "# 0  OR  1      1\n",
    "# 1  OR  0      1\n",
    "# 1  OR  1      1\n",
    "\n",
    "print(False or False)"
   ]
  },
  {
   "cell_type": "code",
   "execution_count": 3,
   "metadata": {},
   "outputs": [
    {
     "name": "stdout",
     "output_type": "stream",
     "text": [
      "False\n"
     ]
    }
   ],
   "source": [
    "# NOT Operator (reverse the truth value of an expression)\n",
    "\n",
    "# TRUE ==> FALSE\n",
    "# FALSE ==> TRUE\n",
    "\n",
    "print(not True)"
   ]
  },
  {
   "cell_type": "markdown",
   "metadata": {},
   "source": [
    "<h3>Membership Operators</h3>"
   ]
  },
  {
   "cell_type": "code",
   "execution_count": 4,
   "metadata": {},
   "outputs": [
    {
     "name": "stdout",
     "output_type": "stream",
     "text": [
      "RAHUL is my classmate\n"
     ]
    }
   ],
   "source": [
    "# (in) and (not in)\n",
    "\n",
    "student_name = 'RAHUL'\n",
    "student_name_ls = ['RAHUL','MOHIT','ROCKY','MADHU','JYOTI','KAREENA']\n",
    "neighbour_name_ls = ['RAHUL','SURESH','ROCKY','RAJU','PREETI','KAALU']\n",
    "\n",
    "if student_name in student_name_ls:\n",
    "    print(f'{student_name} is my classmate')\n",
    "elif student_name in neighbour_name_ls:\n",
    "    print(f'{student_name} is my neighbour')\n",
    "elif student_name not in student_name_ls:\n",
    "    print(f'{student_name} is neither my classmate nor my neighbour')\n"
   ]
  },
  {
   "cell_type": "markdown",
   "metadata": {},
   "source": [
    "<h3>Identity Operators</h3>"
   ]
  },
  {
   "cell_type": "code",
   "execution_count": 5,
   "metadata": {},
   "outputs": [
    {
     "name": "stdout",
     "output_type": "stream",
     "text": [
      "False\n",
      "True\n"
     ]
    }
   ],
   "source": [
    "# (is) and (is not)\n",
    "\n",
    "Num1 = 20 \n",
    "Num2 = 20.0\n",
    "print(Num1 is Num2) # returns False because both datatypes are different\n",
    "# (is) >> (datatype + value) = (datatype + value)\n",
    "print(Num1 == Num2) # returns True as it only compares the values of variable\n",
    "# (==) >> (value) = (value)"
   ]
  }
 ],
 "metadata": {
  "kernelspec": {
   "display_name": "Python 3",
   "language": "python",
   "name": "python3"
  },
  "language_info": {
   "codemirror_mode": {
    "name": "ipython",
    "version": 3
   },
   "file_extension": ".py",
   "mimetype": "text/x-python",
   "name": "python",
   "nbconvert_exporter": "python",
   "pygments_lexer": "ipython3",
   "version": "3.12.4"
  }
 },
 "nbformat": 4,
 "nbformat_minor": 2
}
