{
 "cells": [
  {
   "cell_type": "markdown",
   "metadata": {},
   "source": [
    "## filter() Function"
   ]
  },
  {
   "cell_type": "code",
   "execution_count": null,
   "metadata": {},
   "outputs": [],
   "source": []
  },
  {
   "cell_type": "markdown",
   "metadata": {},
   "source": [
    "## Decorator"
   ]
  },
  {
   "cell_type": "code",
   "execution_count": 1,
   "metadata": {},
   "outputs": [
    {
     "name": "stdout",
     "output_type": "stream",
     "text": [
      "Hey! I am testing function\n",
      "function test2 is executed\n"
     ]
    }
   ],
   "source": [
    "def testing(fun):\n",
    "    print(\"Hey! I am testing function\")\n",
    "    fun()\n",
    "    \n",
    "def test2():\n",
    "    print(\"function test2 is executed\")\n",
    "\n",
    "testing(test2)"
   ]
  },
  {
   "cell_type": "code",
   "execution_count": 2,
   "metadata": {},
   "outputs": [
    {
     "name": "stdout",
     "output_type": "stream",
     "text": [
      "Testing - 1\n",
      "Testing - 2\n"
     ]
    }
   ],
   "source": [
    "def testing1():\n",
    "    print('Testing - 1')\n",
    "    def testing2():\n",
    "        print(\"Testing - 2\")\n",
    "        # def testing3():\n",
    "        #     print(\"Testing - 3\")\n",
    "        # return testing3()\n",
    "    return testing2\n",
    "\n",
    "output = testing1()\n",
    "output()"
   ]
  },
  {
   "cell_type": "code",
   "execution_count": 3,
   "metadata": {},
   "outputs": [
    {
     "name": "stdout",
     "output_type": "stream",
     "text": [
      "Modification before calling function\n",
      "Function to be modified\n",
      "Modification after calling function\n"
     ]
    }
   ],
   "source": [
    "def wraper(fun): # Decorator defining\n",
    "    def inner_function():\n",
    "        print('Modification before calling function')\n",
    "        fun()\n",
    "        print(\"Modification after calling function\")\n",
    "    return inner_function\n",
    "\n",
    "@wraper  # Decorator calling and changing functionality of the to_modify()\n",
    "def to_modify():\n",
    "    print(\"Function to be modified\")\n",
    "\n",
    "to_modify()\n",
    "\n",
    "# output = wraper(to_modify)\n",
    "# output()"
   ]
  },
  {
   "cell_type": "code",
   "execution_count": 4,
   "metadata": {},
   "outputs": [
    {
     "name": "stdout",
     "output_type": "stream",
     "text": [
      "Your average is: 25.00\n"
     ]
    }
   ],
   "source": [
    "def wrapper(fn):\n",
    "    def inner_function(ls):\n",
    "        total_sum = sum(ls)\n",
    "        count = len(ls)\n",
    "        fn(total_sum,count)\n",
    "    return inner_function\n",
    "\n",
    "@wrapper\n",
    "def average_finder(total_sum,count):\n",
    "    print(f\"Your average is: {total_sum/count:.2f}\")\n",
    "    \n",
    "ls= [10,20,30,40]\n",
    "average_finder(ls)\n",
    "        "
   ]
  },
  {
   "cell_type": "markdown",
   "metadata": {},
   "source": [
    "## Iterator"
   ]
  },
  {
   "cell_type": "code",
   "execution_count": 5,
   "metadata": {},
   "outputs": [
    {
     "data": {
      "text/plain": [
       "<list_iterator at 0x2b73897af50>"
      ]
     },
     "execution_count": 5,
     "metadata": {},
     "output_type": "execute_result"
    }
   ],
   "source": [
    "ls = [10,20,30,40,50]\n",
    "# print(type(ls))\n",
    "# print(type(iter(ls)))\n",
    "var2 = iter(ls)\n",
    "var2"
   ]
  },
  {
   "cell_type": "code",
   "execution_count": 6,
   "metadata": {},
   "outputs": [],
   "source": [
    "# next(ls)"
   ]
  },
  {
   "cell_type": "code",
   "execution_count": 7,
   "metadata": {},
   "outputs": [
    {
     "name": "stdout",
     "output_type": "stream",
     "text": [
      "<class 'list_iterator'>\n",
      "10\n",
      "20\n",
      "30\n",
      "40\n",
      "50\n",
      "<class 'list_iterator'>\n"
     ]
    }
   ],
   "source": [
    "print(type(var2))\n",
    "\n",
    "for item in var2:\n",
    "    print(item)\n",
    "\n",
    "print(type(var2))"
   ]
  },
  {
   "cell_type": "code",
   "execution_count": 8,
   "metadata": {},
   "outputs": [
    {
     "ename": "StopIteration",
     "evalue": "",
     "output_type": "error",
     "traceback": [
      "\u001b[1;31m---------------------------------------------------------------------------\u001b[0m",
      "\u001b[1;31mStopIteration\u001b[0m                             Traceback (most recent call last)",
      "Cell \u001b[1;32mIn[8], line 1\u001b[0m\n\u001b[1;32m----> 1\u001b[0m \u001b[38;5;28;43mnext\u001b[39;49m\u001b[43m(\u001b[49m\u001b[43mvar2\u001b[49m\u001b[43m)\u001b[49m\n",
      "\u001b[1;31mStopIteration\u001b[0m: "
     ]
    }
   ],
   "source": [
    "next(var2)"
   ]
  },
  {
   "cell_type": "markdown",
   "metadata": {},
   "source": [
    "## Generator\n",
    "\n",
    "    It is a special type of function which uses yield keyword instead of return keyword and generator are memory efficient and returns generator object"
   ]
  },
  {
   "cell_type": "code",
   "execution_count": null,
   "metadata": {},
   "outputs": [
    {
     "data": {
      "text/plain": [
       "[0, 1, 2, 3, 4, 5, 6, 7, 8, 9, 10, 11]"
      ]
     },
     "execution_count": 8,
     "metadata": {},
     "output_type": "execute_result"
    }
   ],
   "source": [
    "def test(n):\n",
    "    ls = []\n",
    "    for i in range(n):\n",
    "        ls.append(i)\n",
    "    return ls\n",
    "        \n",
    "test(12)"
   ]
  },
  {
   "cell_type": "code",
   "execution_count": null,
   "metadata": {},
   "outputs": [],
   "source": [
    "def test2(n):\n",
    "    for i in range(n):\n",
    "        yield i # it stores the local variables"
   ]
  },
  {
   "cell_type": "code",
   "execution_count": null,
   "metadata": {},
   "outputs": [
    {
     "data": {
      "text/plain": [
       "<generator object test2 at 0x000001DD7F6F4930>"
      ]
     },
     "execution_count": 33,
     "metadata": {},
     "output_type": "execute_result"
    }
   ],
   "source": [
    "output = test2(500)\n",
    "output"
   ]
  },
  {
   "cell_type": "code",
   "execution_count": null,
   "metadata": {},
   "outputs": [
    {
     "data": {
      "text/plain": [
       "124750"
      ]
     },
     "execution_count": 34,
     "metadata": {},
     "output_type": "execute_result"
    }
   ],
   "source": [
    "total = 0\n",
    "for item in output:\n",
    "    total += item\n",
    "total"
   ]
  },
  {
   "cell_type": "code",
   "execution_count": null,
   "metadata": {},
   "outputs": [],
   "source": []
  },
  {
   "cell_type": "code",
   "execution_count": null,
   "metadata": {},
   "outputs": [],
   "source": []
  },
  {
   "cell_type": "code",
   "execution_count": null,
   "metadata": {},
   "outputs": [],
   "source": []
  },
  {
   "cell_type": "code",
   "execution_count": null,
   "metadata": {},
   "outputs": [],
   "source": []
  }
 ],
 "metadata": {
  "kernelspec": {
   "display_name": "Python 3",
   "language": "python",
   "name": "python3"
  },
  "language_info": {
   "codemirror_mode": {
    "name": "ipython",
    "version": 3
   },
   "file_extension": ".py",
   "mimetype": "text/x-python",
   "name": "python",
   "nbconvert_exporter": "python",
   "pygments_lexer": "ipython3",
   "version": "3.12.4"
  }
 },
 "nbformat": 4,
 "nbformat_minor": 2
}
