{
 "cells": [
  {
   "cell_type": "markdown",
   "metadata": {},
   "source": [
    "## Exception Handling\n",
    "\n",
    "    Exceptions --> unwanted and unexpected errors occured during the execution of the program"
   ]
  },
  {
   "cell_type": "code",
   "execution_count": 1,
   "metadata": {},
   "outputs": [
    {
     "name": "stdout",
     "output_type": "stream",
     "text": [
      "a\n",
      "I am a and my age is 1\n"
     ]
    }
   ],
   "source": [
    "name = input(\"Enter your name: \")\n",
    "print(name)\n",
    "age = int(input(\"Enter your age: \")) # will raise runtime error if input is string\n",
    "print(f\"I am {name} and my age is {age}\")"
   ]
  },
  {
   "cell_type": "code",
   "execution_count": 2,
   "metadata": {},
   "outputs": [
    {
     "name": "stdout",
     "output_type": "stream",
     "text": [
      "a\n",
      "Code executed!!\n",
      "else block\n",
      "Finally block\n",
      "code lines executed after try and except block\n"
     ]
    }
   ],
   "source": [
    "try:\n",
    "    name = input(\"Enter your name: \")\n",
    "    print(name)\n",
    "    age = int(input(\"Enter your age: \"))\n",
    "    print(\"Code executed!!\")\n",
    "except:\n",
    "    print(\"except executed\")\n",
    "else:\n",
    "    print('else block')\n",
    "finally:\n",
    "    print(\"Finally block\")\n",
    "    \n",
    "print(\"code lines executed after try and except block\")"
   ]
  },
  {
   "cell_type": "code",
   "execution_count": 3,
   "metadata": {},
   "outputs": [
    {
     "name": "stdout",
     "output_type": "stream",
     "text": [
      "Not a valid input.\n"
     ]
    }
   ],
   "source": [
    "# To get the error message and error class\n",
    "\n",
    "try:\n",
    "    num1 = int(input(\"Enter your number 1: \"))\n",
    "    num2 = int(input(\"Enter your number 2: \"))\n",
    "    print(f\"First number: {num1} & second number: {num2}\")\n",
    "    result = num1/num2\n",
    "    print(result)\n",
    "# except Exception as e:\n",
    "#     print(f\"Error Class: {e.__class__.__name__}\")\n",
    "#     print(f\"Error message: {e}\")\n",
    "#     # print(type(e))\n",
    "except ValueError:\n",
    "    print(\"Not a valid input.\")\n",
    "except ZeroDivisionError:\n",
    "    print(\"No any number could be divided by zero\")"
   ]
  },
  {
   "cell_type": "code",
   "execution_count": 4,
   "metadata": {},
   "outputs": [
    {
     "name": "stdout",
     "output_type": "stream",
     "text": [
      "Error line no: 14\n",
      "Error class: <class 'ValueError'>\n",
      "Error message: invalid literal for int() with base 10: 'a'\n"
     ]
    }
   ],
   "source": [
    "import sys\n",
    "\n",
    "try:\n",
    "    num1 = int(input(\"Enter your number 1: \"))\n",
    "    num2 = int(input(\"Enter your number 2: \"))\n",
    "    print(f\"First number: {num1} & second number: {num2}\")\n",
    "    result = num1/num2\n",
    "    print(result)\n",
    "    \n",
    "# except: # by default: except Exception as e\n",
    "\n",
    "except Exception as e:\n",
    "    error_class,error_message,tbframe = sys.exc_info()\n",
    "    error_line_no = tbframe.tb_frame.f_lineno\n",
    "    print(f\"Error line no: {error_line_no}\")\n",
    "    print(f\"Error class: {error_class}\")\n",
    "    print(f\"Error message: {error_message}\")"
   ]
  },
  {
   "cell_type": "code",
   "execution_count": 5,
   "metadata": {},
   "outputs": [],
   "source": [
    "# What is the difference between error and exception?"
   ]
  },
  {
   "cell_type": "code",
   "execution_count": null,
   "metadata": {},
   "outputs": [],
   "source": [
    "# Third party error\n",
    "try:\n",
    "    num1 = int(input(\"Enter your first number: \"))\n",
    "    num2 = int(input(\"Enter your second number: \"))\n",
    "    print(f\"First number: {num1} and Second number: {num2}\")\n",
    "    result = num1/num2\n",
    "    print(result)\n",
    "except ValueError:\n",
    "    print(\"Please enter a valid Input!\")\n",
    "except ZeroDivisionError:\n",
    "    print(\"Division by zero is not defined\")\n",
    "except Exception as e:\n",
    "    print(e)\n",
    "\n",
    "print(\"Program executed!!\")"
   ]
  },
  {
   "cell_type": "code",
   "execution_count": null,
   "metadata": {},
   "outputs": [],
   "source": [
    "n1 = int(input(\"Enter your first number: \"))\n",
    "n2 = int(input(\"Enter your second number: \"))\n",
    "\n",
    "result = n1/n2"
   ]
  },
  {
   "cell_type": "code",
   "execution_count": 6,
   "metadata": {},
   "outputs": [
    {
     "ename": "RuntimeError",
     "evalue": "No active exception to reraise",
     "output_type": "error",
     "traceback": [
      "\u001b[1;31m---------------------------------------------------------------------------\u001b[0m",
      "\u001b[1;31mRuntimeError\u001b[0m                              Traceback (most recent call last)",
      "Cell \u001b[1;32mIn[6], line 3\u001b[0m\n\u001b[0;32m      1\u001b[0m x\u001b[38;5;241m=\u001b[39m \u001b[38;5;241m-\u001b[39m\u001b[38;5;241m6\u001b[39m\n\u001b[0;32m      2\u001b[0m \u001b[38;5;28;01mif\u001b[39;00m x \u001b[38;5;241m<\u001b[39m \u001b[38;5;241m0\u001b[39m:\n\u001b[1;32m----> 3\u001b[0m     \u001b[38;5;28;01mraise\u001b[39;00m\n",
      "\u001b[1;31mRuntimeError\u001b[0m: No active exception to reraise"
     ]
    }
   ],
   "source": [
    "x= -6\n",
    "if x < 0:\n",
    "    raise"
   ]
  },
  {
   "cell_type": "code",
   "execution_count": 8,
   "metadata": {},
   "outputs": [
    {
     "ename": "TypeError",
     "evalue": "Do not pass negative value!!",
     "output_type": "error",
     "traceback": [
      "\u001b[1;31m---------------------------------------------------------------------------\u001b[0m",
      "\u001b[1;31mTypeError\u001b[0m                                 Traceback (most recent call last)",
      "Cell \u001b[1;32mIn[8], line 3\u001b[0m\n\u001b[0;32m      1\u001b[0m x\u001b[38;5;241m=\u001b[39m \u001b[38;5;241m-\u001b[39m\u001b[38;5;241m6\u001b[39m\n\u001b[0;32m      2\u001b[0m \u001b[38;5;28;01mif\u001b[39;00m x \u001b[38;5;241m<\u001b[39m \u001b[38;5;241m0\u001b[39m:\n\u001b[1;32m----> 3\u001b[0m     \u001b[38;5;28;01mraise\u001b[39;00m \u001b[38;5;167;01mTypeError\u001b[39;00m(\u001b[38;5;124m\"\u001b[39m\u001b[38;5;124mDo not pass negative value!!\u001b[39m\u001b[38;5;124m\"\u001b[39m)\n",
      "\u001b[1;31mTypeError\u001b[0m: Do not pass negative value!!"
     ]
    }
   ],
   "source": [
    "x= -6\n",
    "if x < 0:\n",
    "    raise TypeError(\"Do not pass negative value!!\")"
   ]
  },
  {
   "cell_type": "code",
   "execution_count": 10,
   "metadata": {},
   "outputs": [
    {
     "ename": "TypeError",
     "evalue": "This file is already being used in another process!!",
     "output_type": "error",
     "traceback": [
      "\u001b[1;31m---------------------------------------------------------------------------\u001b[0m",
      "\u001b[1;31mTypeError\u001b[0m                                 Traceback (most recent call last)",
      "Cell \u001b[1;32mIn[10], line 6\u001b[0m\n\u001b[0;32m      4\u001b[0m \u001b[38;5;28;01mif\u001b[39;00m file_deletion\u001b[38;5;241m.\u001b[39mlower() \u001b[38;5;241m==\u001b[39m \u001b[38;5;124m\"\u001b[39m\u001b[38;5;124my\u001b[39m\u001b[38;5;124m\"\u001b[39m:\n\u001b[0;32m      5\u001b[0m     \u001b[38;5;28;01mif\u001b[39;00m is_open \u001b[38;5;241m==\u001b[39m \u001b[38;5;124m\"\u001b[39m\u001b[38;5;124myes\u001b[39m\u001b[38;5;124m\"\u001b[39m:\n\u001b[1;32m----> 6\u001b[0m         \u001b[38;5;28;01mraise\u001b[39;00m \u001b[38;5;167;01mTypeError\u001b[39;00m(\u001b[38;5;124m\"\u001b[39m\u001b[38;5;124mThis file is already being used in another process!!\u001b[39m\u001b[38;5;124m\"\u001b[39m)\n\u001b[0;32m      7\u001b[0m     \u001b[38;5;28;01melse\u001b[39;00m:\n\u001b[0;32m      8\u001b[0m         \u001b[38;5;28mprint\u001b[39m(\u001b[38;5;124m\"\u001b[39m\u001b[38;5;124mYour file has been successfully deleted!\u001b[39m\u001b[38;5;124m\"\u001b[39m)\n",
      "\u001b[1;31mTypeError\u001b[0m: This file is already being used in another process!!"
     ]
    }
   ],
   "source": [
    "file_deletion = input(\"Do you want to delete the file (press Y/N): \")\n",
    "is_open = \"yes\"\n",
    "\n",
    "try:\n",
    "    if file_deletion.lower() == \"y\":\n",
    "        if is_open == \"yes\":\n",
    "            raise TypeError(\"This file is already being used in another process!!\")\n",
    "        else:\n",
    "            print(\"Your file has been successfully deleted!\")\n",
    "        \n",
    "except TypeError:\n",
    "    print(\"I have raised this error!\")"
   ]
  },
  {
   "cell_type": "code",
   "execution_count": 12,
   "metadata": {},
   "outputs": [
    {
     "ename": "AssertionError",
     "evalue": "x should be greater than 5",
     "output_type": "error",
     "traceback": [
      "\u001b[1;31m---------------------------------------------------------------------------\u001b[0m",
      "\u001b[1;31mAssertionError\u001b[0m                            Traceback (most recent call last)",
      "Cell \u001b[1;32mIn[12], line 5\u001b[0m\n\u001b[0;32m      1\u001b[0m \u001b[38;5;66;03m# assert Keyword\u001b[39;00m\n\u001b[0;32m      3\u001b[0m x \u001b[38;5;241m=\u001b[39m \u001b[38;5;241m1\u001b[39m\n\u001b[1;32m----> 5\u001b[0m \u001b[38;5;28;01massert\u001b[39;00m x \u001b[38;5;241m>\u001b[39m \u001b[38;5;241m5\u001b[39m, \u001b[38;5;124m\"\u001b[39m\u001b[38;5;124mx should be greater than 5\u001b[39m\u001b[38;5;124m\"\u001b[39m\n",
      "\u001b[1;31mAssertionError\u001b[0m: x should be greater than 5"
     ]
    }
   ],
   "source": [
    "# assert Keyword\n",
    "\n",
    "x = 1 \n",
    "\n",
    "assert x > 5, \"x should be greater than 5\""
   ]
  },
  {
   "cell_type": "code",
   "execution_count": null,
   "metadata": {},
   "outputs": [],
   "source": []
  },
  {
   "cell_type": "code",
   "execution_count": null,
   "metadata": {},
   "outputs": [],
   "source": []
  },
  {
   "cell_type": "code",
   "execution_count": null,
   "metadata": {},
   "outputs": [],
   "source": []
  },
  {
   "cell_type": "code",
   "execution_count": null,
   "metadata": {},
   "outputs": [],
   "source": []
  },
  {
   "cell_type": "code",
   "execution_count": null,
   "metadata": {},
   "outputs": [],
   "source": []
  },
  {
   "cell_type": "code",
   "execution_count": null,
   "metadata": {},
   "outputs": [],
   "source": []
  },
  {
   "cell_type": "code",
   "execution_count": null,
   "metadata": {},
   "outputs": [],
   "source": []
  }
 ],
 "metadata": {
  "kernelspec": {
   "display_name": "Python 3",
   "language": "python",
   "name": "python3"
  },
  "language_info": {
   "codemirror_mode": {
    "name": "ipython",
    "version": 3
   },
   "file_extension": ".py",
   "mimetype": "text/x-python",
   "name": "python",
   "nbconvert_exporter": "python",
   "pygments_lexer": "ipython3",
   "version": "3.12.4"
  }
 },
 "nbformat": 4,
 "nbformat_minor": 2
}
