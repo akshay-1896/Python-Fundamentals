{
 "cells": [
  {
   "cell_type": "markdown",
   "metadata": {},
   "source": [
    "## Zip() Function\n",
    "\n",
    "    The zip() function in Python is used to combine two or more iterables (e.g., lists, tuples, etc.) into a single iterable of tuples."
   ]
  },
  {
   "cell_type": "code",
   "execution_count": 1,
   "metadata": {},
   "outputs": [
    {
     "name": "stdout",
     "output_type": "stream",
     "text": [
      "('A', 10)\n",
      "('B', 20)\n",
      "('C', 30)\n",
      "('D', 40)\n",
      "('E', 50)\n"
     ]
    }
   ],
   "source": [
    "# lists\n",
    "\n",
    "ls1 = ['A','B','C','D','E']\n",
    "ls2 = [10,20,30,40,50]\n",
    "ls3 = [0.1,0.2,0.3,0.4,0.5]\n",
    "# print(type(zip(ls1,ls2))) \n",
    "# output = list(zip(ls1,ls2,ls3))\n",
    "# print(output)\n",
    "# print(output[2][2])\n",
    "\n",
    "for item in zip(ls1,ls2):\n",
    "    print(item)"
   ]
  },
  {
   "cell_type": "code",
   "execution_count": 2,
   "metadata": {},
   "outputs": [
    {
     "name": "stdout",
     "output_type": "stream",
     "text": [
      "('a', '1')\n",
      "('b', '2')\n",
      "('c', '3')\n"
     ]
    }
   ],
   "source": [
    "# strings\n",
    "\n",
    "st1 = 'abc'\n",
    "st2 = '123'\n",
    "\n",
    "for item in zip(st1,st2):\n",
    "    print(item)"
   ]
  },
  {
   "cell_type": "markdown",
   "metadata": {},
   "source": [
    "zip(*unpacking)"
   ]
  },
  {
   "cell_type": "code",
   "execution_count": 3,
   "metadata": {},
   "outputs": [
    {
     "name": "stdout",
     "output_type": "stream",
     "text": [
      "(1, 2, 3)\n",
      "('a', 'b', 'c')\n"
     ]
    }
   ],
   "source": [
    "# inverse of zip() --> we can use zip() in combination with the * operator to unpack a list of tuples back into individual lists \n",
    "\n",
    "pairs = [(1, 'a'), (2, 'b'), (3, 'c')]\n",
    "\n",
    "# Unzip the pairs back into two separate lists\n",
    "list1, list2 = zip(*pairs)\n",
    "\n",
    "print(list1)\n",
    "print(list2)"
   ]
  },
  {
   "cell_type": "code",
   "execution_count": 4,
   "metadata": {},
   "outputs": [
    {
     "name": "stdout",
     "output_type": "stream",
     "text": [
      "[('A', 10, 0.1), ('B', 20, 0.2), ('C', 30, 0.3), ('D', 40, 0.4), ('E', 50, 0.5)]\n",
      "['A', 'B', 'C', 'D', 'E']\n",
      "[10, 20, 30, 40, 50]\n",
      "[0.1, 0.2, 0.3, 0.4, 0.5]\n"
     ]
    }
   ],
   "source": [
    "ls1 = ['A','B','C','D','E']\n",
    "ls2 = [10,20,30,40,50]\n",
    "ls3 = [0.1,0.2,0.3,0.4,0.5]\n",
    "# print(type(zip(ls1,ls2))) \n",
    "output = list(zip(ls1,ls2,ls3))\n",
    "print(output)\n",
    "a, b, c= list(zip(*output))\n",
    "print(list(a)) # we can typecast a, because by default it returns tuple item on unpacking\n",
    "print(list(b))\n",
    "print(list(c))"
   ]
  },
  {
   "cell_type": "code",
   "execution_count": 5,
   "metadata": {},
   "outputs": [
    {
     "name": "stdout",
     "output_type": "stream",
     "text": [
      "[('A', 10), ('B', 20), ('C', 30), ('D', 40), ('E', 50)]\n",
      "{'A': 10, 'B': 20, 'C': 30, 'D': 40, 'E': 50}\n"
     ]
    }
   ],
   "source": [
    "ls1 = ['A','B','C','D','E']\n",
    "ls2 = [10,20,30,40,50]\n",
    "ls3 = [0.1,0.2,0.3,0.4,0.5]\n",
    "# print(type(zip(ls1,ls2))) \n",
    "output = list(zip(ls1,ls2))\n",
    "print(output)\n",
    "\n",
    "out2 = dict(output) # typecasting the pairs into dictionary implies that there should only be two item pairs\n",
    "print(out2)"
   ]
  },
  {
   "cell_type": "code",
   "execution_count": 6,
   "metadata": {},
   "outputs": [
    {
     "name": "stdout",
     "output_type": "stream",
     "text": [
      "[35.5, 52.75, 66.5, 60.0, 43.0]\n"
     ]
    }
   ],
   "source": [
    "ls1 = [24,65,44,30,10]\n",
    "ls2 = [10,20,30,40,50]\n",
    "ls3 = [54,63,96,85,56]\n",
    "ls4 = [54,63,96,85,56]\n",
    "out = list(zip(ls1,ls2,ls3,ls4))\n",
    "# print(out)\n",
    "# for item in out:\n",
    "#     print(max(item))\n",
    "\n",
    "ls4 = []\n",
    "for item in out:\n",
    "    # print(item)\n",
    "    l = 0\n",
    "    count = 0\n",
    "    for i in range(0,4):\n",
    "        # print(i)\n",
    "        # print(item[i])\n",
    "        l += item[i]\n",
    "        count += 1\n",
    "        \n",
    "    avg = l/count\n",
    "    ls4.append(avg)\n",
    "        # print(l)\n",
    "        # for j in range(0,5):\n",
    "        #     l += item[j]\n",
    "        \n",
    "print(ls4)\n"
   ]
  },
  {
   "cell_type": "markdown",
   "metadata": {},
   "source": [
    "1. Iterating over Two or More Iterables in Parallel:"
   ]
  },
  {
   "cell_type": "code",
   "execution_count": 7,
   "metadata": {},
   "outputs": [
    {
     "name": "stdout",
     "output_type": "stream",
     "text": [
      "Vinay Prabhu is 19 years old.\n",
      "Lakshay Prabhu is 19 years old.\n",
      "Akshay is 21 years old.\n"
     ]
    }
   ],
   "source": [
    "names = ['Vinay Prabhu', 'Lakshay Prabhu', 'Akshay']\n",
    "ages = [19, 19, 21]\n",
    "\n",
    "for name, age in zip(names, ages):\n",
    "    print(f\"{name} is {age} years old.\")"
   ]
  },
  {
   "cell_type": "markdown",
   "metadata": {},
   "source": [
    "2. Creating Dictionaries from Two Lists:"
   ]
  },
  {
   "cell_type": "code",
   "execution_count": 8,
   "metadata": {},
   "outputs": [
    {
     "name": "stdout",
     "output_type": "stream",
     "text": [
      "{'name': 'Alice', 'age': 30, 'city': 'New York'}\n"
     ]
    }
   ],
   "source": [
    "keys = ['name', 'age', 'city']\n",
    "values = ['Alice', 30, 'New York']\n",
    "\n",
    "# Create a dictionary by zipping keys and values\n",
    "my_dict = dict(zip(keys, values))\n",
    "\n",
    "print(my_dict)"
   ]
  },
  {
   "cell_type": "markdown",
   "metadata": {},
   "source": [
    "3. Transposing a Matrix:"
   ]
  },
  {
   "cell_type": "code",
   "execution_count": 9,
   "metadata": {},
   "outputs": [
    {
     "name": "stdout",
     "output_type": "stream",
     "text": [
      "Transposed matrix = [   [1, 4, 7],\n",
      "\t\t\t[2, 5, 8],\n",
      "\t\t\t[3, 6, 9]   ]\n"
     ]
    }
   ],
   "source": [
    "matrix = [\n",
    "    [1, 2, 3],\n",
    "    [4, 5, 6],\n",
    "    [7, 8, 9]\n",
    "]\n",
    "\n",
    "# Transpose the matrix\n",
    "transposed = list(zip(*matrix))\n",
    "\n",
    "\n",
    "# for item in transposed:\n",
    "#     print(transposed[0])\n",
    "\n",
    "print(f'Transposed matrix = [   {list(transposed[0])},')\n",
    "# print(f'\\t\\t\\t{list(transposed[0])},')\n",
    "print(f'\\t\\t\\t{list(transposed[1])},')\n",
    "print(f'\\t\\t\\t{list(transposed[2])}   ]')\n",
    "# print('\\t\\t\\t\\t\\t]')"
   ]
  }
 ],
 "metadata": {
  "kernelspec": {
   "display_name": "Python 3",
   "language": "python",
   "name": "python3"
  },
  "language_info": {
   "codemirror_mode": {
    "name": "ipython",
    "version": 3
   },
   "file_extension": ".py",
   "mimetype": "text/x-python",
   "name": "python",
   "nbconvert_exporter": "python",
   "pygments_lexer": "ipython3",
   "version": "3.12.4"
  }
 },
 "nbformat": 4,
 "nbformat_minor": 2
}
