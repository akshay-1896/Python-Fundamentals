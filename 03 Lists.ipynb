{
 "cells": [
  {
   "cell_type": "markdown",
   "metadata": {},
   "source": [
    "## Lists"
   ]
  },
  {
   "cell_type": "code",
   "execution_count": 1,
   "metadata": {},
   "outputs": [
    {
     "name": "stdout",
     "output_type": "stream",
     "text": [
      "[10, 20, 30, 40, 9.8]\n"
     ]
    }
   ],
   "source": [
    "ls = [10,20,30,40,9.8]\n",
    "# ls.pop(3)\n",
    "# print(ls.index(9.8))\n",
    "# ls.clear()\n",
    "# ls.remove(40)\n",
    "# ls.reverse() # ls[::-1]\n",
    "# ls.sort(reverse=True)\n",
    "# print(sorted(ls))\n",
    "print(ls)"
   ]
  },
  {
   "cell_type": "code",
   "execution_count": 2,
   "metadata": {},
   "outputs": [
    {
     "name": "stdout",
     "output_type": "stream",
     "text": [
      "[30, 20, 40, 10, 9.8]\n"
     ]
    }
   ],
   "source": [
    "ls = [10,20,30,40,9.8]\n",
    "\n",
    "def myfun(n):\n",
    "    return abs(n - 30)\n",
    "\n",
    "ls.sort(key= myfun)\n",
    "print(ls)"
   ]
  },
  {
   "cell_type": "code",
   "execution_count": 3,
   "metadata": {},
   "outputs": [
    {
     "name": "stdout",
     "output_type": "stream",
     "text": [
      "[10, 20, 100, 30, 40, 9.8]\n"
     ]
    }
   ],
   "source": [
    "ls = [10,20,30,40,9.8]\n",
    "ls.insert(2,100) # inserts elements on respective index\n",
    "print(ls)"
   ]
  },
  {
   "cell_type": "code",
   "execution_count": 4,
   "metadata": {},
   "outputs": [
    {
     "name": "stdout",
     "output_type": "stream",
     "text": [
      "[10, 20]\n",
      "[10, 20, 30, 40, 9.8]\n",
      "[10, 20, 30, 40, 9.8]\n"
     ]
    }
   ],
   "source": [
    "ls1 = [10,20,30,40,9.8]\n",
    "ls2 = ls1 # ls1 referencing to ls2, ls2 is not a separate list\n",
    "ls3 = ls1.copy()\n",
    "ls1 = [10,20]\n",
    "print(ls1)\n",
    "print(ls2)\n",
    "print(ls3)"
   ]
  },
  {
   "cell_type": "code",
   "execution_count": 5,
   "metadata": {},
   "outputs": [
    {
     "name": "stdout",
     "output_type": "stream",
     "text": [
      "[10, 20, 30, 40, 9.8, 200]\n"
     ]
    }
   ],
   "source": [
    "ls = [10,20,30,40,9.8]\n",
    "ls.append(200) # adds element to the last\n",
    "print(ls)"
   ]
  },
  {
   "cell_type": "code",
   "execution_count": 6,
   "metadata": {},
   "outputs": [
    {
     "name": "stdout",
     "output_type": "stream",
     "text": [
      "[10, 20, 30, 'a', 'b']\n",
      "[10, 20, 30, 'a', 'b', 1, 2]\n",
      "[10, 20, 30, 'a', 'b', 1, 2, 3, 4]\n",
      "[10, 20, 30, 'a', 'b', 1, 2, 3, 4, 5, 6]\n"
     ]
    }
   ],
   "source": [
    "# extend --> to add multiple iterable elements at the end of the list\n",
    "ls = [10,20,30]\n",
    "string = \"ab\"\n",
    "ls.extend(string) # extending with a string\n",
    "print(ls)\n",
    "list = [1,2]\n",
    "ls.extend(list) # extending with a list\n",
    "print(ls)\n",
    "tuple = (3,4)\n",
    "ls.extend(tuple) # extending with a tuple\n",
    "print(ls)\n",
    "set = {5,6}\n",
    "ls.extend(set) # extending with a set\n",
    "print(ls)"
   ]
  }
 ],
 "metadata": {
  "kernelspec": {
   "display_name": "Python 3",
   "language": "python",
   "name": "python3"
  },
  "language_info": {
   "codemirror_mode": {
    "name": "ipython",
    "version": 3
   },
   "file_extension": ".py",
   "mimetype": "text/x-python",
   "name": "python",
   "nbconvert_exporter": "python",
   "pygments_lexer": "ipython3",
   "version": "3.12.4"
  }
 },
 "nbformat": 4,
 "nbformat_minor": 2
}
