{
 "cells": [
  {
   "cell_type": "markdown",
   "metadata": {},
   "source": [
    "## Lambda Function"
   ]
  },
  {
   "cell_type": "code",
   "execution_count": 1,
   "metadata": {},
   "outputs": [
    {
     "name": "stdout",
     "output_type": "stream",
     "text": [
      "15\n",
      "5\n",
      "100\n",
      "5\n",
      "20\n"
     ]
    }
   ],
   "source": [
    "incr = lambda x: x+5\n",
    "decr = lambda x: x-5\n",
    "sqr = lambda x: x**2\n",
    "dvd = lambda x: x//2\n",
    "mult = lambda x: x*2\n",
    "print(incr(10))\n",
    "print(decr(10))\n",
    "print(sqr(10))\n",
    "print(dvd(10))\n",
    "print(mult(10))"
   ]
  },
  {
   "cell_type": "code",
   "execution_count": 2,
   "metadata": {},
   "outputs": [
    {
     "name": "stdout",
     "output_type": "stream",
     "text": [
      "30\n"
     ]
    }
   ],
   "source": [
    "addnum = lambda n1,n2: n1 + n2\n",
    "# print(addnum(n1=20,20)) # SyntaxError: positional argument follows keyword argument\n",
    "print(addnum(n1=20,n2=10))"
   ]
  },
  {
   "cell_type": "code",
   "execution_count": 3,
   "metadata": {},
   "outputs": [
    {
     "name": "stdout",
     "output_type": "stream",
     "text": [
      "hey, test1 and hey, test2\n"
     ]
    }
   ],
   "source": [
    "def test1():\n",
    "    return 'hey, test1'\n",
    "\n",
    "def test2():\n",
    "    return 'hey, test2'\n",
    "\n",
    "def test3(f1,f2):\n",
    "    print(f\"{f1()} and {f2()}\")\n",
    "    \n",
    "test3(test1,test2)"
   ]
  },
  {
   "cell_type": "markdown",
   "metadata": {},
   "source": [
    "map() function"
   ]
  },
  {
   "cell_type": "code",
   "execution_count": 4,
   "metadata": {},
   "outputs": [
    {
     "name": "stdout",
     "output_type": "stream",
     "text": [
      "[4, 9, 16, 25, 36, 49, 64, 81]\n"
     ]
    }
   ],
   "source": [
    "def sqr_finder(x):\n",
    "    return x ** 2\n",
    "\n",
    "ls = [2,3,4,5,6,7,8,9]\n",
    "output = list(map(sqr_finder,ls))\n",
    "print(output)"
   ]
  },
  {
   "cell_type": "code",
   "execution_count": 5,
   "metadata": {},
   "outputs": [
    {
     "data": {
      "text/plain": [
       "[4, 9, 16, 25, 36, 49, 64, 81]"
      ]
     },
     "execution_count": 5,
     "metadata": {},
     "output_type": "execute_result"
    }
   ],
   "source": [
    "def sqr_finder(x):\n",
    "    return x ** 2\n",
    "\n",
    "# ls = [2,3,4,5,6,7,8,9]\n",
    "# output = list(map(sqr_finder,ls))\n",
    "# print(output)\n",
    "\n",
    "def my_map(fn, iterable):\n",
    "    data = []\n",
    "    for item in iterable:\n",
    "        data.append(fn(item))\n",
    "    return data\n",
    "\n",
    "ls = [2,3,4,5,6,7,8,9]\n",
    "my_map(sqr_finder, ls)"
   ]
  },
  {
   "cell_type": "code",
   "execution_count": 6,
   "metadata": {},
   "outputs": [
    {
     "data": {
      "text/plain": [
       "[10, 15, 20, 25, 30, 35, 40, 45]"
      ]
     },
     "execution_count": 6,
     "metadata": {},
     "output_type": "execute_result"
    }
   ],
   "source": [
    "def mult(x):\n",
    "    return x * 5\n",
    "\n",
    "def my_map(fn,iterable):\n",
    "    data = []\n",
    "    for item in iterable:\n",
    "        data.append(fn(item))\n",
    "    return data\n",
    "\n",
    "ls = [2,3,4,5,6,7,8,9]\n",
    "my_map(mult,ls)"
   ]
  },
  {
   "cell_type": "code",
   "execution_count": 7,
   "metadata": {},
   "outputs": [
    {
     "data": {
      "text/plain": [
       "[10, 15, 20, 25, 30, 35, 40, 45]"
      ]
     },
     "execution_count": 7,
     "metadata": {},
     "output_type": "execute_result"
    }
   ],
   "source": [
    "def my_map(fn,iterable):\n",
    "    data = []\n",
    "    for item in iterable:\n",
    "        data.append(fn(item))\n",
    "    return data\n",
    "\n",
    "ls = [2,3,4,5,6,7,8,9]\n",
    "my_map(lambda x: x*5,ls)"
   ]
  },
  {
   "cell_type": "code",
   "execution_count": 8,
   "metadata": {},
   "outputs": [
    {
     "data": {
      "text/plain": [
       "9"
      ]
     },
     "execution_count": 8,
     "metadata": {},
     "output_type": "execute_result"
    }
   ],
   "source": [
    "def max_length(ls):\n",
    "    return max(len(word) for word in ls)\n",
    "\n",
    "words_ls = ['hello','hii','how','are','you','education','graduate']\n",
    "max_length(words_ls)"
   ]
  },
  {
   "cell_type": "code",
   "execution_count": 9,
   "metadata": {},
   "outputs": [
    {
     "name": "stdout",
     "output_type": "stream",
     "text": [
      "[5, 3, 3, 3, 3, 9, 8]\n",
      "9\n"
     ]
    }
   ],
   "source": [
    "words_ls = ['hello','hii','how','are','you','education','graduate']\n",
    "len_character = list(map(len, words_ls))\n",
    "maximum_length = max(list(map(len,words_ls)))\n",
    "\n",
    "print(len_character)\n",
    "print(maximum_length)"
   ]
  },
  {
   "cell_type": "code",
   "execution_count": 10,
   "metadata": {},
   "outputs": [
    {
     "name": "stdout",
     "output_type": "stream",
     "text": [
      "Maximum[5, 3, 3, 3, 3, 9, 8] --> 9\n"
     ]
    }
   ],
   "source": [
    "st = 'hello'\n",
    "# print(len(st))\n",
    "\n",
    "def max_length(ls):\n",
    "    l = []\n",
    "    for word in ls:\n",
    "        l.append(len(word))\n",
    "    return print(f'Maximum{l} --> {max(l)}')\n",
    "\n",
    "words_ls = ['hello','hii','how','are','you','education','graduate']\n",
    "max_length(words_ls)\n",
    "        "
   ]
  },
  {
   "cell_type": "code",
   "execution_count": 11,
   "metadata": {},
   "outputs": [
    {
     "name": "stdout",
     "output_type": "stream",
     "text": [
      "Maximum['hello', 'hii', 'how', 'are', 'you', 'education', 'graduate'] --> 9\n"
     ]
    }
   ],
   "source": [
    "# no use of max() and len()\n",
    "\n",
    "def max_length(ls):\n",
    "    max_len = 0\n",
    "    l1 = []\n",
    "    for word in ls:\n",
    "        count = 0\n",
    "        for char in word:\n",
    "            count += 1\n",
    "        l1.append(count)\n",
    "        if count > max_len:\n",
    "            max_len = count\n",
    "    return max_len\n",
    "\n",
    "words_ls = ['hello','hii','how','are','you','education','graduate']\n",
    "\n",
    "print(f'Maximum{words_ls} --> {max_length(words_ls)}')"
   ]
  },
  {
   "cell_type": "code",
   "execution_count": 12,
   "metadata": {},
   "outputs": [
    {
     "name": "stdout",
     "output_type": "stream",
     "text": [
      "hello\n",
      "hii\n",
      "how\n",
      "are\n",
      "you\n",
      "education\n",
      "graduate\n"
     ]
    }
   ],
   "source": [
    "words_ls = ['hello','hii','how','are','you','education','graduate']\n",
    "for word in words_ls:\n",
    "    st = word\n",
    "    print(st)"
   ]
  },
  {
   "cell_type": "code",
   "execution_count": null,
   "metadata": {},
   "outputs": [],
   "source": []
  },
  {
   "cell_type": "code",
   "execution_count": null,
   "metadata": {},
   "outputs": [],
   "source": []
  },
  {
   "cell_type": "code",
   "execution_count": null,
   "metadata": {},
   "outputs": [],
   "source": []
  },
  {
   "cell_type": "code",
   "execution_count": null,
   "metadata": {},
   "outputs": [],
   "source": []
  },
  {
   "cell_type": "code",
   "execution_count": null,
   "metadata": {},
   "outputs": [],
   "source": []
  },
  {
   "cell_type": "code",
   "execution_count": null,
   "metadata": {},
   "outputs": [],
   "source": []
  }
 ],
 "metadata": {
  "kernelspec": {
   "display_name": "Python 3",
   "language": "python",
   "name": "python3"
  },
  "language_info": {
   "codemirror_mode": {
    "name": "ipython",
    "version": 3
   },
   "file_extension": ".py",
   "mimetype": "text/x-python",
   "name": "python",
   "nbconvert_exporter": "python",
   "pygments_lexer": "ipython3",
   "version": "3.12.4"
  }
 },
 "nbformat": 4,
 "nbformat_minor": 2
}
