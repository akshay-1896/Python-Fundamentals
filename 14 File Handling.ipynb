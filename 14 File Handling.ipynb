{
 "cells": [
  {
   "cell_type": "markdown",
   "metadata": {},
   "source": [
    "# File Handling"
   ]
  },
  {
   "cell_type": "code",
   "execution_count": 1,
   "metadata": {},
   "outputs": [
    {
     "data": {
      "text/plain": [
       "<_io.TextIOWrapper name='Day_01.py' mode='r' encoding='cp1252'>"
      ]
     },
     "execution_count": 1,
     "metadata": {},
     "output_type": "execute_result"
    }
   ],
   "source": [
    "file = open(\"Day_01.py\",\"r\")\n",
    "file"
   ]
  },
  {
   "cell_type": "code",
   "execution_count": 7,
   "metadata": {},
   "outputs": [],
   "source": [
    "file = open(\"hello.txt\")"
   ]
  },
  {
   "cell_type": "code",
   "execution_count": 12,
   "metadata": {},
   "outputs": [
    {
     "name": "stdout",
     "output_type": "stream",
     "text": [
      "Hey, Myself Akshay Sharma and I am enrolled in this batch\n",
      "\n"
     ]
    }
   ],
   "source": [
    "with open(r\"C:\\Administrator\\Documents\\file_01.txt\", 'r') as file:\n",
    "    content = file.read()\n",
    "    print(content)"
   ]
  },
  {
   "cell_type": "code",
   "execution_count": 5,
   "metadata": {},
   "outputs": [
    {
     "name": "stdout",
     "output_type": "stream",
     "text": [
      "[{'name': 'Radhey', 'email': 'ranjit.upflairs@gmail.com', 'password': '258'}, {'name': 'Anshika', 'email': 'anshika.upflairs@gmail.com', 'password': '786'}, {'name': 'Akshay', 'email': 'akshay.upflairs@gmail.com', 'password': '343'}, {'name': 'Lakshay', 'email': 'lakshay.upflairs@gmail.com', 'password': '927'}]\n"
     ]
    }
   ],
   "source": [
    "import ast\n",
    "with open(\"user_data.txt\",'r') as file:\n",
    "    content = ast.literal_eval(file.read())\n",
    "    ls = [content [i] for i in range(len(content))]\n",
    "    print(ls)"
   ]
  },
  {
   "cell_type": "code",
   "execution_count": 16,
   "metadata": {},
   "outputs": [],
   "source": [
    "age = 19\n",
    "if age >= 18:\n",
    "    pass\n",
    "else:\n",
    "    print(\"You cannot vote\")"
   ]
  },
  {
   "cell_type": "code",
   "execution_count": 6,
   "metadata": {},
   "outputs": [],
   "source": [
    "# 'w' --> to write in a file\n",
    "# 'w' --> if file is not found, then it is created\n",
    "# 'w' --> by default, in this mode, new content is overwitten if file already exists\n",
    "\n",
    "message = \"Hey, this is a demo file.\\n\"\n",
    "with open(\"demo.txt\",'w') as file: # if demo.txt does not exist then it is created\n",
    "    file.write(message)"
   ]
  },
  {
   "cell_type": "code",
   "execution_count": 19,
   "metadata": {},
   "outputs": [],
   "source": [
    "message = \"Happy Birthday\"\n",
    "with open(\"demo.txt\",'w') as file:\n",
    "    file.write(message)"
   ]
  },
  {
   "cell_type": "code",
   "execution_count": 22,
   "metadata": {},
   "outputs": [
    {
     "name": "stdout",
     "output_type": "stream",
     "text": [
      "Happy Birthday\n"
     ]
    }
   ],
   "source": [
    "# 'w+' --> to read content in writing mode\n",
    "# 'w+' --> truncates the file\n",
    "\n",
    "message = \"Happy Birthday\"\n",
    "with open(\"demo.txt\",'w+') as file:\n",
    "    file.write(message)\n",
    "    file.seek(0)\n",
    "    content = file.read()\n",
    "    print(content)"
   ]
  },
  {
   "cell_type": "code",
   "execution_count": 7,
   "metadata": {},
   "outputs": [],
   "source": [
    "# 'a' --> appends the message in the file\n",
    "\n",
    "message = \"Happy Holi to all!\\n\"\n",
    "with open(\"demo.txt\",'a') as file:\n",
    "    file.write(message)\n",
    "    # file.seek(0)\n",
    "    # content = file.read()\n",
    "    # print(content)"
   ]
  },
  {
   "cell_type": "code",
   "execution_count": null,
   "metadata": {},
   "outputs": [],
   "source": [
    "# 'x' --> to exclusively create new file, and raises error if file already exists\n",
    "\n",
    "with open('demo3.txt','x') as file:\n",
    "    pass"
   ]
  },
  {
   "cell_type": "code",
   "execution_count": 8,
   "metadata": {},
   "outputs": [
    {
     "name": "stdout",
     "output_type": "stream",
     "text": [
      "Hey, this is a demo file.\n",
      "\n",
      "Happy Holi to all!\n",
      "\n"
     ]
    }
   ],
   "source": [
    "with open(\"demo.txt\",'r') as file:\n",
    "    # content = file.readlines() # returns list of all lines as an item in the lists\n",
    "    # print(content)\n",
    "    # print(len(content))\n",
    "    # print(type(content))\n",
    "    for line in file:\n",
    "        print(line)"
   ]
  },
  {
   "cell_type": "code",
   "execution_count": 3,
   "metadata": {},
   "outputs": [],
   "source": [
    "# how we can read and write the data from csv json files\n",
    "\n",
    "import json\n"
   ]
  },
  {
   "cell_type": "code",
   "execution_count": 2,
   "metadata": {},
   "outputs": [],
   "source": [
    "ls = ['mohan', 'kanha', 'radhey', 'ram', 'siya']\n",
    "message = \"Happy Diwali\"\n",
    "for item in ls:\n",
    "    with open(item+\".txt\", 'w') as file:\n",
    "        file.write(message + \" \" + item)"
   ]
  },
  {
   "cell_type": "code",
   "execution_count": null,
   "metadata": {},
   "outputs": [],
   "source": [
    "# def table_writer(n):\n",
    "#     i = 0\n",
    "#     with open(\"table.txt\",'w') as file:\n",
    "#         for i in range(1,11):\n",
    "            "
   ]
  },
  {
   "cell_type": "code",
   "execution_count": null,
   "metadata": {},
   "outputs": [],
   "source": []
  },
  {
   "cell_type": "code",
   "execution_count": null,
   "metadata": {},
   "outputs": [],
   "source": []
  },
  {
   "cell_type": "code",
   "execution_count": null,
   "metadata": {},
   "outputs": [],
   "source": []
  },
  {
   "cell_type": "code",
   "execution_count": null,
   "metadata": {},
   "outputs": [],
   "source": []
  }
 ],
 "metadata": {
  "kernelspec": {
   "display_name": "Python 3",
   "language": "python",
   "name": "python3"
  },
  "language_info": {
   "codemirror_mode": {
    "name": "ipython",
    "version": 3
   },
   "file_extension": ".py",
   "mimetype": "text/x-python",
   "name": "python",
   "nbconvert_exporter": "python",
   "pygments_lexer": "ipython3",
   "version": "3.12.4"
  }
 },
 "nbformat": 4,
 "nbformat_minor": 2
}
