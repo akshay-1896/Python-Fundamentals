{
 "cells": [
  {
   "cell_type": "markdown",
   "metadata": {},
   "source": [
    "## TUPLES\n",
    "\n",
    "Immutable / \n",
    "Static /\n",
    "Heterogeneous /\n",
    "Hashable /\n",
    "Ordered"
   ]
  },
  {
   "cell_type": "code",
   "execution_count": 1,
   "metadata": {},
   "outputs": [],
   "source": [
    "tpl = (10,20,30,40,10)\n",
    "# print(tpl)\n",
    "# print(type(tpl))\n",
    "# print(tpl.count(10)) # it will return no. of items the item is repeated\n",
    "# tpl.index(20) # returns the index position of given item\n",
    "# print(tpl * 2) # replicates the item for n times"
   ]
  },
  {
   "cell_type": "code",
   "execution_count": 2,
   "metadata": {},
   "outputs": [
    {
     "name": "stdout",
     "output_type": "stream",
     "text": [
      "56\n"
     ]
    }
   ],
   "source": [
    "student_marks = (56,67)\n",
    "# print(student_marks[0]) # slicing of tuple\n",
    "# student_marks[0] = 18 # immutable\n",
    "print(student_marks[0])"
   ]
  },
  {
   "cell_type": "markdown",
   "metadata": {},
   "source": [
    "<h3>Tuple Unpacking</h3>"
   ]
  },
  {
   "cell_type": "code",
   "execution_count": 3,
   "metadata": {},
   "outputs": [
    {
     "name": "stdout",
     "output_type": "stream",
     "text": [
      "56\n",
      "67\n",
      "(56, 67, 78)\n"
     ]
    }
   ],
   "source": [
    "# Tuple unpacking method\n",
    "student_marks = (56,67,78)\n",
    "rohit, mohit, rahul = student_marks # assigning copied tuple values to rohit and mohit\n",
    "print(rohit)\n",
    "print(mohit)\n",
    "print(student_marks)"
   ]
  },
  {
   "cell_type": "code",
   "execution_count": 4,
   "metadata": {},
   "outputs": [
    {
     "name": "stdout",
     "output_type": "stream",
     "text": [
      "apple\n",
      "mango\n",
      "['papaya', 'pineapple', 'cherry']\n"
     ]
    }
   ],
   "source": [
    "# Using ASTERIK (*)\n",
    "\n",
    "# If the number of variables is less than the number of values, you can add an * to the variable name and the values will be assigned to the variable as a list:\n",
    "\n",
    "fruits = (\"apple\", \"mango\", \"papaya\", \"pineapple\", \"cherry\")\n",
    "\n",
    "(green,yellow, *red) = fruits\n",
    "\n",
    "# If the asterisk is added to another variable name than the last, Python will assign values to the variable until the number of values left matches the number of variables left.\n",
    "\n",
    "# (green, *tropic, red) = fruits\n",
    "\n",
    "print(green)\n",
    "# print(tropic)\n",
    "print(yellow)\n",
    "print(red)"
   ]
  },
  {
   "cell_type": "code",
   "execution_count": 5,
   "metadata": {},
   "outputs": [
    {
     "name": "stdout",
     "output_type": "stream",
     "text": [
      "[1, 2, 3, 4, 5, 6, 7, 8, 9]\n",
      "(1, 2, 3, 4, 5, 6, 7, 8, 9)\n"
     ]
    }
   ],
   "source": [
    "l = list(range(1,10))\n",
    "print(l)\n",
    "t = tuple(range(1,10))\n",
    "print(t)"
   ]
  },
  {
   "cell_type": "markdown",
   "metadata": {},
   "source": [
    "## SETS\n",
    "\n",
    "Mutable / Unordered / Unique Elements / Dynamic / Efficient Membership Testing"
   ]
  },
  {
   "cell_type": "markdown",
   "metadata": {},
   "source": [
    "<h3>Frozen Sets</h3>"
   ]
  },
  {
   "cell_type": "code",
   "execution_count": 6,
   "metadata": {},
   "outputs": [],
   "source": [
    "frozen = frozenset([1, 2, 3])\n",
    "# frozen.add(4)  # This will raise an AttributeError because frozenset is immutable"
   ]
  },
  {
   "cell_type": "code",
   "execution_count": 7,
   "metadata": {},
   "outputs": [
    {
     "name": "stdout",
     "output_type": "stream",
     "text": [
      "{33, 34, 67, 10, 45}\n"
     ]
    }
   ],
   "source": [
    "set = {10,34,45,33,67}\n",
    "print(set)"
   ]
  },
  {
   "cell_type": "code",
   "execution_count": 8,
   "metadata": {},
   "outputs": [
    {
     "name": "stdout",
     "output_type": "stream",
     "text": [
      "{65, 50, 85, 72, 10, 45}\n"
     ]
    }
   ],
   "source": [
    "st = {10,85,65,45,72,72,72,72}\n",
    "st.add(50) # to add single elements\n",
    "print(st)"
   ]
  },
  {
   "cell_type": "code",
   "execution_count": 9,
   "metadata": {},
   "outputs": [
    {
     "name": "stdout",
     "output_type": "stream",
     "text": [
      "{65, 4, 85, 5, 72, 10, 45}\n",
      "{65, 4, 5, 6, 7, 72, 10, 45, 85}\n"
     ]
    }
   ],
   "source": [
    "st = {10,85,65,45,72,72,72,72}\n",
    "st.update([4,5]) # to add multiple elements at once\n",
    "print(st)\n",
    "st.update({6,7})\n",
    "print(st)"
   ]
  },
  {
   "cell_type": "code",
   "execution_count": 10,
   "metadata": {},
   "outputs": [
    {
     "name": "stdout",
     "output_type": "stream",
     "text": [
      "{85, 72, 10, 45}\n"
     ]
    }
   ],
   "source": [
    "st = {10,85,65,45,72,72,72,72}\n",
    "st.pop() # removes random item\n",
    "print(st)"
   ]
  },
  {
   "cell_type": "code",
   "execution_count": 11,
   "metadata": {},
   "outputs": [
    {
     "name": "stdout",
     "output_type": "stream",
     "text": [
      "{65, 85, 72, 10}\n"
     ]
    }
   ],
   "source": [
    "st = {10,85,65,45,72,72,72,72}\n",
    "st.remove(45) # removes specific element and raises KeyError if element is not present\n",
    "print(st)"
   ]
  },
  {
   "cell_type": "code",
   "execution_count": 12,
   "metadata": {},
   "outputs": [
    {
     "name": "stdout",
     "output_type": "stream",
     "text": [
      "{85, 72, 10, 45}\n"
     ]
    }
   ],
   "source": [
    "st = {10,85,65,45,72,72,72,72}\n",
    "st.discard(65) # removes specific element and returns nothing if element is not present\n",
    "print(st)"
   ]
  },
  {
   "cell_type": "code",
   "execution_count": 13,
   "metadata": {},
   "outputs": [
    {
     "name": "stdout",
     "output_type": "stream",
     "text": [
      "set()\n"
     ]
    }
   ],
   "source": [
    "st = {10,85,65,45,72,72,72,72}\n",
    "st.clear() # clears or removes all elements of set\n",
    "print(st)"
   ]
  },
  {
   "cell_type": "code",
   "execution_count": 14,
   "metadata": {},
   "outputs": [
    {
     "name": "stdout",
     "output_type": "stream",
     "text": [
      "{72, 65, 45}\n",
      "{88, 62}\n",
      "{10, 85}\n",
      "{65, 72, 10, 45, 85, 88, 62}\n"
     ]
    }
   ],
   "source": [
    "st1 = {10,85,65,45,72,72,72,72}\n",
    "st2 = {10,85,62,88}\n",
    "print(st1.difference(st2)) # returns set of elements which are only present in st1\n",
    "print(st2.difference(st1)) # returns set of elements which are only present in st2\n",
    "print(st1.intersection(st2)) # returns common elements of st1 and st2\n",
    "print(st1.union(st2)) # unites all elements"
   ]
  },
  {
   "cell_type": "code",
   "execution_count": 15,
   "metadata": {},
   "outputs": [
    {
     "data": {
      "text/plain": [
       "True"
      ]
     },
     "execution_count": 15,
     "metadata": {},
     "output_type": "execute_result"
    }
   ],
   "source": [
    "st1 = {10,85,65,45,72,72,72,72}\n",
    "st2 = {10,85,45}\n",
    "\n",
    "st2.issubset(st1) # checks for subset"
   ]
  },
  {
   "cell_type": "code",
   "execution_count": 16,
   "metadata": {},
   "outputs": [
    {
     "data": {
      "text/plain": [
       "True"
      ]
     },
     "execution_count": 16,
     "metadata": {},
     "output_type": "execute_result"
    }
   ],
   "source": [
    "st1 = {10,85,65,45,72,72,72,72}\n",
    "st2 = {10,85,65}\n",
    "\n",
    "st1.issuperset(st2) # returns TRUE iff all elements of st2 are in st1\n",
    "# st2.issuperset(st1)"
   ]
  },
  {
   "cell_type": "code",
   "execution_count": 17,
   "metadata": {},
   "outputs": [
    {
     "data": {
      "text/plain": [
       "True"
      ]
     },
     "execution_count": 17,
     "metadata": {},
     "output_type": "execute_result"
    }
   ],
   "source": [
    "st1 = {10,85,65,45,72,72,72,72}\n",
    "st2 = {23,44,32,67}\n",
    "\n",
    "st1.isdisjoint(st2) # returns TRUE if both sets have uncommon elements"
   ]
  },
  {
   "cell_type": "code",
   "execution_count": 18,
   "metadata": {},
   "outputs": [
    {
     "ename": "TypeError",
     "evalue": "'set' object is not callable",
     "output_type": "error",
     "traceback": [
      "\u001b[1;31m---------------------------------------------------------------------------\u001b[0m",
      "\u001b[1;31mTypeError\u001b[0m                                 Traceback (most recent call last)",
      "Cell \u001b[1;32mIn[18], line 3\u001b[0m\n\u001b[0;32m      1\u001b[0m ls \u001b[38;5;241m=\u001b[39m [\u001b[38;5;241m10\u001b[39m,\u001b[38;5;241m20\u001b[39m,\u001b[38;5;241m30\u001b[39m,\u001b[38;5;241m30\u001b[39m,\u001b[38;5;241m40\u001b[39m,\u001b[38;5;241m10\u001b[39m,\u001b[38;5;241m50\u001b[39m,\u001b[38;5;241m10\u001b[39m,\u001b[38;5;241m20\u001b[39m,\u001b[38;5;241m7\u001b[39m,\u001b[38;5;241m77\u001b[39m,\u001b[38;5;241m88\u001b[39m,\u001b[38;5;241m88\u001b[39m,\u001b[38;5;241m99\u001b[39m,\u001b[38;5;241m7\u001b[39m,\u001b[38;5;241m2\u001b[39m]\n\u001b[0;32m      2\u001b[0m \u001b[38;5;66;03m# To remove all duplicates in the list, typecast the list to set and then to list again\u001b[39;00m\n\u001b[1;32m----> 3\u001b[0m ls \u001b[38;5;241m=\u001b[39m \u001b[38;5;28;43mset\u001b[39;49m\u001b[43m(\u001b[49m\u001b[43mls\u001b[49m\u001b[43m)\u001b[49m\n\u001b[0;32m      4\u001b[0m ls \u001b[38;5;241m=\u001b[39m \u001b[38;5;28mlist\u001b[39m(ls)\n\u001b[0;32m      5\u001b[0m \u001b[38;5;28mprint\u001b[39m(ls)\n",
      "\u001b[1;31mTypeError\u001b[0m: 'set' object is not callable"
     ]
    }
   ],
   "source": [
    "ls = [10,20,30,30,40,10,50,10,20,7,77,88,88,99,7,2]\n",
    "# To remove all duplicates in the list, typecast the list to set and then to list again\n",
    "ls = set(ls)\n",
    "ls = list(ls)\n",
    "print(ls)"
   ]
  },
  {
   "cell_type": "markdown",
   "metadata": {},
   "source": [
    "## <h2>Completed!!</h2>"
   ]
  }
 ],
 "metadata": {
  "kernelspec": {
   "display_name": "Python 3",
   "language": "python",
   "name": "python3"
  },
  "language_info": {
   "codemirror_mode": {
    "name": "ipython",
    "version": 3
   },
   "file_extension": ".py",
   "mimetype": "text/x-python",
   "name": "python",
   "nbconvert_exporter": "python",
   "pygments_lexer": "ipython3",
   "version": "3.12.4"
  }
 },
 "nbformat": 4,
 "nbformat_minor": 2
}
