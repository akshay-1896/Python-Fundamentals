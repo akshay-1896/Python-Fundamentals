{
 "cells": [
  {
   "cell_type": "markdown",
   "metadata": {},
   "source": [
    "## DICTIONARIES"
   ]
  },
  {
   "cell_type": "code",
   "execution_count": 1,
   "metadata": {},
   "outputs": [
    {
     "name": "stdout",
     "output_type": "stream",
     "text": [
      "dict_keys(['A', 'B', 'C', 'D'])\n",
      "dict_values([25, 50, 75, 100])\n"
     ]
    }
   ],
   "source": [
    "dt = {'A':25,'B':50,'C':75,'D':100}\n",
    "\n",
    "print(dt.keys())\n",
    "print(dt.values())"
   ]
  },
  {
   "cell_type": "code",
   "execution_count": 2,
   "metadata": {},
   "outputs": [
    {
     "name": "stdout",
     "output_type": "stream",
     "text": [
      "25\n"
     ]
    }
   ],
   "source": [
    "dt = {'A':25,'B':50,'C':75,'D':100}\n",
    "print(dt['A']) # accessing items"
   ]
  },
  {
   "cell_type": "code",
   "execution_count": 3,
   "metadata": {},
   "outputs": [
    {
     "name": "stdout",
     "output_type": "stream",
     "text": [
      "{'A': 25, 'B': 50, 'C': 75, 'D': 500, 'E': 200}\n"
     ]
    }
   ],
   "source": [
    "dt = {'A':25,'B':50,'C':75,'D':100}\n",
    "dt['D'] = 500 # to update the value of a particular key\n",
    "dt['E'] = 200 # to insert a new key\n",
    "print(dt)"
   ]
  },
  {
   "cell_type": "code",
   "execution_count": 4,
   "metadata": {},
   "outputs": [
    {
     "name": "stdout",
     "output_type": "stream",
     "text": [
      "None\n",
      "Not Found\n"
     ]
    }
   ],
   "source": [
    "dt = {'A':25,'B':50,'C':75,'D':100}\n",
    "# print(dt['Bl']) # returns the corresponding value but raises KeyError if key is not present\n",
    "print(dt.get(\"Bl\")) # returns the corresponding value but returns None if key is not present\n",
    "print(dt.get('Bl','Not Found')) # Editing the return message for absent keys"
   ]
  },
  {
   "cell_type": "code",
   "execution_count": 5,
   "metadata": {},
   "outputs": [
    {
     "name": "stdout",
     "output_type": "stream",
     "text": [
      "50\n",
      "('D', 100)\n",
      "{'A': 25, 'C': 75}\n"
     ]
    }
   ],
   "source": [
    "dt = {'A':25,'B':50,'C':75,'D':100}\n",
    "# dt2 = dt.copy()\n",
    "print(dt.pop('B')) # removes specified key-value pair on passing the corresponding key and returns the value of respective key\n",
    "print(dt.popitem()) # removes last-key-value pair and returns the same pair\n",
    "print(dt)"
   ]
  },
  {
   "cell_type": "code",
   "execution_count": 6,
   "metadata": {},
   "outputs": [
    {
     "name": "stdout",
     "output_type": "stream",
     "text": [
      "{'A': 25, 'B': 50, 'C': 75, 'D': 100, 'E': 200, 'F': 300}\n"
     ]
    }
   ],
   "source": [
    "dt1 = {'A':25,'B':50,'C':75,'D':100}\n",
    "dt2 = {'E':200,'F':300}\n",
    "dt1.update(dt2)\n",
    "print(dt1)"
   ]
  },
  {
   "cell_type": "code",
   "execution_count": 7,
   "metadata": {},
   "outputs": [
    {
     "name": "stdout",
     "output_type": "stream",
     "text": [
      "{'A': 100, 'B': 100, 'C': 100, 'D': 100, 'E': 100}\n"
     ]
    }
   ],
   "source": [
    "ls = ['A','B','C','D','E']\n",
    "dt = dict.fromkeys(ls,100) # to create dictionary with same values\n",
    "print(dt)"
   ]
  },
  {
   "cell_type": "code",
   "execution_count": 8,
   "metadata": {},
   "outputs": [],
   "source": [
    "# dt.setdefault()"
   ]
  },
  {
   "cell_type": "code",
   "execution_count": 9,
   "metadata": {},
   "outputs": [
    {
     "name": "stdout",
     "output_type": "stream",
     "text": [
      "75\n"
     ]
    }
   ],
   "source": [
    "dt = {'A':25,'B':50,'C':75,'D':100}\n",
    "output = list(dt.items())\n",
    "print(output[2][1])"
   ]
  },
  {
   "cell_type": "code",
   "execution_count": 10,
   "metadata": {},
   "outputs": [
    {
     "name": "stdout",
     "output_type": "stream",
     "text": [
      "Tobias\n"
     ]
    }
   ],
   "source": [
    "# NESTED DICTIONARIES\n",
    "\n",
    "child1 = {\n",
    "  \"name\" : \"Emil\",\n",
    "  \"year\" : 2004\n",
    "}\n",
    "child2 = {\n",
    "  \"name\" : \"Tobias\",\n",
    "  \"year\" : 2007\n",
    "}\n",
    "child3 = {\n",
    "  \"name\" : \"Linus\",\n",
    "  \"year\" : 2011\n",
    "}\n",
    "\n",
    "myfamily = {\n",
    "  \"child1\" : child1,\n",
    "  \"child2\" : child2,\n",
    "  \"child3\" : child3\n",
    "}\n",
    "\n",
    "print(myfamily[\"child2\"][\"name\"])"
   ]
  },
  {
   "cell_type": "code",
   "execution_count": 11,
   "metadata": {},
   "outputs": [
    {
     "name": "stdout",
     "output_type": "stream",
     "text": [
      "child1\n",
      "name: Emil\n",
      "year: 2004\n",
      "child2\n",
      "name: Tobias\n",
      "year: 2007\n",
      "child3\n",
      "name: Linus\n",
      "year: 2011\n"
     ]
    }
   ],
   "source": [
    "# LOOP IN NESTED DICTIONARIES\n",
    "\n",
    "for x, obj in myfamily.items():\n",
    "  print(x)\n",
    "\n",
    "  for y in obj:\n",
    "    print(y + ':', obj[y])"
   ]
  },
  {
   "cell_type": "markdown",
   "metadata": {},
   "source": [
    "## DICTIONARY PRACTICE"
   ]
  },
  {
   "cell_type": "code",
   "execution_count": 12,
   "metadata": {},
   "outputs": [],
   "source": [
    "student_marks = {'name':[\"rahul kumar\",\"Rocky\",\"mohit\",\"suresh\"],\n",
    "                'marks':[25,36,45,29],\n",
    "                'subject':'science'} \n",
    "# print(type(student_marks))\n",
    "# print(student_marks)\n",
    "\n",
    "# TO ACCESS NO. OF NAMES IN THE DICTIONARY\n",
    "\n",
    "# out = list(student_marks.items())\n",
    "# print(len(out[0][1]))\n",
    "\n",
    "# print(len(student_marks['name']))"
   ]
  },
  {
   "cell_type": "code",
   "execution_count": 13,
   "metadata": {},
   "outputs": [],
   "source": [
    "student_marks = {'name':[\"rahul kumar\",\"Rocky\",\"mohit\",\"suresh\"],\n",
    "                'marks':[25,36,45,29],\n",
    "                'subject':'science'} \n",
    "\n",
    "# ls = student_marks['name']\n",
    "# ls[3] =\"mahesh\"\n",
    "# # print(ls)\n",
    "# student_marks['name'] = ls\n",
    "# print(student_marks['name'])\n",
    "\n",
    "# student_marks['name'][3] = 'mahesh'\n",
    "# print(student_marks['name'])"
   ]
  },
  {
   "cell_type": "code",
   "execution_count": 14,
   "metadata": {},
   "outputs": [
    {
     "name": "stdout",
     "output_type": "stream",
     "text": [
      "{'name': ['rahul kumar', 'roshni', 'mohit', 'suresh'], 'marks': [25, 49, 45, 29], 'subject': 'maths'}\n"
     ]
    }
   ],
   "source": [
    "student_marks = {'name':[\"rahul kumar\",\"Rocky\",\"mohit\",\"suresh\"],\n",
    "                'marks':[25,36,45,29],\n",
    "                'subject':'science'} \n",
    "\n",
    "student_marks['subject'] = 'maths'\n",
    "student_marks['name'].remove('Rocky')\n",
    "student_marks['marks'].remove(36)\n",
    "student_marks['name'].insert(1,'roshni')\n",
    "student_marks['marks'].insert(1, 49)\n",
    "print(student_marks)"
   ]
  },
  {
   "cell_type": "code",
   "execution_count": 15,
   "metadata": {},
   "outputs": [
    {
     "name": "stdout",
     "output_type": "stream",
     "text": [
      "5.0\n"
     ]
    }
   ],
   "source": [
    "x = 10\n",
    "y = 2\n",
    "print(x/y)"
   ]
  }
 ],
 "metadata": {
  "kernelspec": {
   "display_name": "Python 3",
   "language": "python",
   "name": "python3"
  },
  "language_info": {
   "codemirror_mode": {
    "name": "ipython",
    "version": 3
   },
   "file_extension": ".py",
   "mimetype": "text/x-python",
   "name": "python",
   "nbconvert_exporter": "python",
   "pygments_lexer": "ipython3",
   "version": "3.12.4"
  }
 },
 "nbformat": 4,
 "nbformat_minor": 2
}
