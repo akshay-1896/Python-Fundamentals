{
 "cells": [
  {
   "cell_type": "markdown",
   "metadata": {},
   "source": [
    "# __Functions__\n",
    "\n",
    "- Built-in functions: Pre-defined in Python.\n",
    "- User-defined functions: Created by the user.\n",
    "- Lambda functions: Anonymous, inline functions.\n",
    "- Recursive functions: Call themselves.\n",
    "- Higher-order functions: Take or return other functions.\n",
    "- Generator functions: Use yield to return values lazily.\n",
    "- Decorator functions: Modify behavior of other functions.\n",
    "- Nested functions: Functions inside other functions.\n",
    "- Async functions: Non-blocking functions with async and await.\n",
    "- Class/Static methods: Functions defined inside classes."
   ]
  },
  {
   "cell_type": "code",
   "execution_count": 2,
   "metadata": {},
   "outputs": [
    {
     "name": "stdout",
     "output_type": "stream",
     "text": [
      "[1, 2, 3, 4]\n",
      "Average: 2.5\n"
     ]
    }
   ],
   "source": [
    "import random\n",
    "\n",
    "def avg_calc(ls):\n",
    "    total = 0\n",
    "    for item in ls:\n",
    "        total += item\n",
    "    avg = total/len(ls)\n",
    "    print(f\"Average: {avg}\")\n",
    "\n",
    "ls = random.sample(range(1,10), 4)\n",
    "print(ls)\n",
    "avg_calc(ls)"
   ]
  },
  {
   "cell_type": "code",
   "execution_count": 3,
   "metadata": {},
   "outputs": [
    {
     "name": "stdout",
     "output_type": "stream",
     "text": [
      "10\n"
     ]
    }
   ],
   "source": [
    "def add(n1, n2):\n",
    "    result = n1 + n2\n",
    "    # print(f\"Sum: {result}\")\n",
    "    return result\n",
    "output = add(5,5)\n",
    "print(output)\n",
    "# print(add(5,5))\n",
    "# print(print(3))"
   ]
  },
  {
   "cell_type": "code",
   "execution_count": 4,
   "metadata": {},
   "outputs": [
    {
     "name": "stdout",
     "output_type": "stream",
     "text": [
      "6\n"
     ]
    }
   ],
   "source": [
    "def multiply():\n",
    "    a = 2\n",
    "    b = 3\n",
    "    result = a * b\n",
    "    return result\n",
    "# output = multiply()\n",
    "# print(output)\n",
    "print(multiply())"
   ]
  },
  {
   "cell_type": "markdown",
   "metadata": {},
   "source": [
    "# Variable Scope\n",
    "    Variable scope refers to the region in a program where a particular variable is accessible or can be used. In Python, variables are not accessible everywhere in the code; they have a defined scope, which is determined by where they are declared."
   ]
  },
  {
   "cell_type": "markdown",
   "metadata": {},
   "source": [
    "## <h3>1. Local Scope</h3>\n",
    "    A variable declared inside a function is said to have a local scope. This means that the variable can only be accessed within that function and does not exist outside of it.\n",
    "\n",
    "Key points of local scope:\n",
    "\n",
    "    --> Local variables are created when the function is called and are destroyed when the function completes.\n",
    "    --> They are only accessible within the function where they are declared"
   ]
  },
  {
   "cell_type": "code",
   "execution_count": 5,
   "metadata": {},
   "outputs": [
    {
     "name": "stdout",
     "output_type": "stream",
     "text": [
      "10\n"
     ]
    }
   ],
   "source": [
    "def my_function():\n",
    "    x = 10  # x has a local scope\n",
    "    print(x)  # This works fine, x is accessible inside the function\n",
    "\n",
    "my_function()\n",
    "# print(x)  # This would raise a NameError because x is not accessible outside the function"
   ]
  },
  {
   "cell_type": "code",
   "execution_count": 6,
   "metadata": {},
   "outputs": [
    {
     "name": "stdout",
     "output_type": "stream",
     "text": [
      "50\n",
      "50\n"
     ]
    }
   ],
   "source": [
    "x = 25 # declaring x in global region\n",
    "def update(): # defining local scope\n",
    "    global x # accessing global variable to local scope\n",
    "    x = 50 \n",
    "    print(x)\n",
    "update()\n",
    "print(x)"
   ]
  },
  {
   "cell_type": "code",
   "execution_count": null,
   "metadata": {},
   "outputs": [],
   "source": []
  },
  {
   "cell_type": "code",
   "execution_count": null,
   "metadata": {},
   "outputs": [],
   "source": []
  },
  {
   "cell_type": "code",
   "execution_count": null,
   "metadata": {},
   "outputs": [],
   "source": []
  },
  {
   "cell_type": "code",
   "execution_count": null,
   "metadata": {},
   "outputs": [],
   "source": []
  },
  {
   "cell_type": "code",
   "execution_count": null,
   "metadata": {},
   "outputs": [],
   "source": []
  },
  {
   "cell_type": "code",
   "execution_count": null,
   "metadata": {},
   "outputs": [],
   "source": []
  },
  {
   "cell_type": "code",
   "execution_count": null,
   "metadata": {},
   "outputs": [],
   "source": []
  },
  {
   "cell_type": "code",
   "execution_count": null,
   "metadata": {},
   "outputs": [],
   "source": []
  },
  {
   "cell_type": "code",
   "execution_count": null,
   "metadata": {},
   "outputs": [],
   "source": []
  },
  {
   "cell_type": "code",
   "execution_count": null,
   "metadata": {},
   "outputs": [],
   "source": []
  },
  {
   "cell_type": "code",
   "execution_count": null,
   "metadata": {},
   "outputs": [],
   "source": []
  },
  {
   "cell_type": "code",
   "execution_count": null,
   "metadata": {},
   "outputs": [],
   "source": []
  },
  {
   "cell_type": "code",
   "execution_count": null,
   "metadata": {},
   "outputs": [],
   "source": []
  }
 ],
 "metadata": {
  "kernelspec": {
   "display_name": "Python 3",
   "language": "python",
   "name": "python3"
  },
  "language_info": {
   "codemirror_mode": {
    "name": "ipython",
    "version": 3
   },
   "file_extension": ".py",
   "mimetype": "text/x-python",
   "name": "python",
   "nbconvert_exporter": "python",
   "pygments_lexer": "ipython3",
   "version": "3.12.4"
  }
 },
 "nbformat": 4,
 "nbformat_minor": 2
}
